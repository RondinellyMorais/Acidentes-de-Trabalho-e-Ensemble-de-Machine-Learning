{
 "cells": [
  {
   "cell_type": "markdown",
   "metadata": {},
   "source": [
    "## Prevendo a Probabilidade de Ocorrência de Graves Acidentes de Trabalho Usando a Técnica Ensembles de Machine Learning"
   ]
  },
  {
   "cell_type": "markdown",
   "metadata": {},
   "source": [
    "![oi](esemble.png)"
   ]
  },
  {
   "cell_type": "markdown",
   "metadata": {},
   "source": [
    "## Sumário"
   ]
  },
  {
   "cell_type": "markdown",
   "metadata": {},
   "source": [
    "* [Introdução](#1)\n",
    "* [Preparando os Dados](#2)\n",
    "* [Ensemble Machine Learning](#3)\n",
    "   - [One Level](#4)\n",
    "   - [Secund Level](#5)\n",
    "* [Ensemble Machine Learning](#6)\n",
    "* [Criando Dataframe Com as Previsões](#7)\n",
    "* [Conclusão](#8)"
   ]
  },
  {
   "cell_type": "markdown",
   "metadata": {},
   "source": [
    "## Introdução <a id= \"1\"></a>"
   ]
  },
  {
   "cell_type": "markdown",
   "metadata": {},
   "source": [
    "Desenvolver um ambiente de trabalho protetor e o mais seguro possível é um dos principais desafios enfrentados pelas companhias. Principalmente Em setores pesados da indústria, onde o risco de acidente fatal é bem maior que nos demais setores. Naturalmente, a busca de ambiente de trabalho com alta prioridade de segurança pode custar um parte significativa da receita de uma companhia. Logo, buscar novas técnicas e tecnologias que aumente a eficiência da gestão de segurança do trabalho e ao mesmo tempo reduza os custos de implementação é imprescindível. Com este intuito, construir modelos de previsão que possam mostrar a probabilidade de ocorrência de determinados eventos de risco é uma estratégia muito empregada atualmente. Modelos de machine learning são muito bons em classificar e prever a probabilidade de eventos de risco. Contudo, devido a natureza delicada de se prever a possibilidade de um funcionário sofrer um acidente fatal, precisamos de modelos realmente confiáveis. Sabemos que um único modelo de machine laerning esta sujeito a eventos que podem reduzir ou invalidar suas previsões. Entre esses eventos temos os mais comuns que são o overfiting e underfiting. Além disso temos a possiblidade das features do dataset ser bastante heterogênea de modo que o modelo pode ter um desempenho melhor para determinadas partes do dataset do que em outras. \n",
    "\n",
    "Nosso objetivo é construir um modelo de classificação que possa prever com alta confiabilidade o 'grau de lesão' evitando a maioria dos problemas citados acima. Por isso faremos uso de esemble de machine learnig do tipo stacking que usa a previsão de vários modelos de machine leaining para gerar dados para validação posterior de outros modelos. Normalmente quando queremos validar informações que possuímos comparamos com outras fontes que possuem a mesma informação. Para uma visão mais detalhada do conceito ensemble pode ser encontrado aqui: [ensemble-learning-bagging-boosting-stacking](https://www.kaggle.com/satishgunjal/ensemble-learning-bagging-boosting-stacking). Quanto mais fontes puderem validar a nossa informação prévia mais certos estaremos. Esta é a forma básica de como a técnica dos esembles funciona, com isso esperamos aumentar a confiança na previsão dos nossos modelos. Mais especificamente nosso esemble terá dois níveis, onde rodamos um conjunto de modelos no primeiro nível e usamos as predições deste nível para treinar um modelo no segundo nível. De modo que o modelo de segundo nível deve ter um desepenho melhor e mais confiável que um único modelo.\n",
    "\n",
    "A nossa base de dados que usaremos neste notebook foi obtida do dataset original onde este consistia de uma série de colunas categóricas e numéricas que mostrava várias informações sobre os empregados que sofreram lesões fatais e não-fatais. O dataset original pode encontrado neste link: [Osha-accident-and-injury-data](https://www.kaggle.com/ruqaiyaship/osha-accident-and-injury-data-1517). Após as transformações adequadas para a limpeza do dataset, convertemos as features categóricas em novas colunas usando o OneHotEncoder(). Com os dados limpos em mãos tentaremos responder a seguinte questão: dado uma série de features associadas a um empregado que sofreu um acidente qual probabilidade do mesmo sobreviver ou não ao um determinado acidente de trabalho. Para avaliar todos os modelos utilizados neste notebook usaremos a métrica log-loss e a métrica ROC-AUC. A log-loss é a melhor métrica para avaliar classificação com base nas probabilidades das previsões. Além disso a log-loss é muito boa para compararmos modelos com outros, quando menor o valor da log-loss melhor será o modelo. Já ROC-AUC basicamente nos diz o quão bem o modelo conseguie separar as classes alvos. 50% de ROC-AUC significa que o modelo não consegue distinguir entre as classes alvos, enquanto que  em 100% o modelo separa com perfeição as classes alvos."
   ]
  },
  {
   "cell_type": "code",
   "execution_count": 1,
   "metadata": {},
   "outputs": [],
   "source": [
    "# Importando as bibliotecas necessárias\n",
    "import pandas as pd\n",
    "import os\n",
    "import time\n",
    "import random\n",
    "import numpy as np\n",
    "import matplotlib.pyplot as plt\n",
    "from imblearn.over_sampling import SMOTE\n",
    "from imblearn.under_sampling import NearMiss\n",
    "from imblearn.under_sampling import RandomUnderSampler\n",
    "from imblearn.over_sampling import RandomOverSampler \n",
    "import seaborn as sns\n",
    "from sklearn.preprocessing import MinMaxScaler\n",
    "from sklearn.model_selection import KFold\n",
    "from sklearn.metrics import roc_auc_score\n",
    "from sklearn.metrics import log_loss\n",
    "from xgboost import XGBClassifier\n",
    "from sklearn.metrics import classification_report\n",
    "import lightgbm as lgb\n",
    "from catboost import CatBoostClassifier\n",
    "from sklearn.linear_model import LogisticRegression\n",
    "from colorama import Fore, Back, Style \n",
    "\n",
    "import warnings\n",
    "warnings.filterwarnings(\"ignore\")"
   ]
  },
  {
   "cell_type": "markdown",
   "metadata": {},
   "source": [
    "## Preparando os Dados <a id= \"2\"></a>"
   ]
  },
  {
   "cell_type": "code",
   "execution_count": 2,
   "metadata": {},
   "outputs": [
    {
     "data": {
      "text/html": [
       "<div>\n",
       "<style scoped>\n",
       "    .dataframe tbody tr th:only-of-type {\n",
       "        vertical-align: middle;\n",
       "    }\n",
       "\n",
       "    .dataframe tbody tr th {\n",
       "        vertical-align: top;\n",
       "    }\n",
       "\n",
       "    .dataframe thead th {\n",
       "        text-align: right;\n",
       "    }\n",
       "</style>\n",
       "<table border=\"1\" class=\"dataframe\">\n",
       "  <thead>\n",
       "    <tr style=\"text-align: right;\">\n",
       "      <th></th>\n",
       "      <th>Degree of Injury</th>\n",
       "      <th>0</th>\n",
       "      <th>1</th>\n",
       "      <th>2</th>\n",
       "      <th>3</th>\n",
       "      <th>4</th>\n",
       "      <th>5</th>\n",
       "      <th>6</th>\n",
       "      <th>7</th>\n",
       "      <th>8</th>\n",
       "      <th>...</th>\n",
       "      <th>148</th>\n",
       "      <th>149</th>\n",
       "      <th>150</th>\n",
       "      <th>build_stor</th>\n",
       "      <th>nature_of_inj</th>\n",
       "      <th>evn_factor</th>\n",
       "      <th>fat_cause</th>\n",
       "      <th>Year</th>\n",
       "      <th>Month</th>\n",
       "      <th>Day</th>\n",
       "    </tr>\n",
       "  </thead>\n",
       "  <tbody>\n",
       "    <tr>\n",
       "      <th>0</th>\n",
       "      <td>0</td>\n",
       "      <td>1.0</td>\n",
       "      <td>0.0</td>\n",
       "      <td>0.0</td>\n",
       "      <td>0.0</td>\n",
       "      <td>0.0</td>\n",
       "      <td>0.0</td>\n",
       "      <td>0.0</td>\n",
       "      <td>0.0</td>\n",
       "      <td>0.0</td>\n",
       "      <td>...</td>\n",
       "      <td>0.0</td>\n",
       "      <td>0.0</td>\n",
       "      <td>0.0</td>\n",
       "      <td>0</td>\n",
       "      <td>1</td>\n",
       "      <td>2</td>\n",
       "      <td>0</td>\n",
       "      <td>2017</td>\n",
       "      <td>8</td>\n",
       "      <td>10</td>\n",
       "    </tr>\n",
       "    <tr>\n",
       "      <th>1</th>\n",
       "      <td>0</td>\n",
       "      <td>0.0</td>\n",
       "      <td>0.0</td>\n",
       "      <td>0.0</td>\n",
       "      <td>0.0</td>\n",
       "      <td>0.0</td>\n",
       "      <td>0.0</td>\n",
       "      <td>0.0</td>\n",
       "      <td>0.0</td>\n",
       "      <td>1.0</td>\n",
       "      <td>...</td>\n",
       "      <td>0.0</td>\n",
       "      <td>0.0</td>\n",
       "      <td>0.0</td>\n",
       "      <td>1</td>\n",
       "      <td>9</td>\n",
       "      <td>18</td>\n",
       "      <td>0</td>\n",
       "      <td>2017</td>\n",
       "      <td>7</td>\n",
       "      <td>17</td>\n",
       "    </tr>\n",
       "    <tr>\n",
       "      <th>2</th>\n",
       "      <td>0</td>\n",
       "      <td>1.0</td>\n",
       "      <td>0.0</td>\n",
       "      <td>0.0</td>\n",
       "      <td>0.0</td>\n",
       "      <td>0.0</td>\n",
       "      <td>0.0</td>\n",
       "      <td>0.0</td>\n",
       "      <td>0.0</td>\n",
       "      <td>0.0</td>\n",
       "      <td>...</td>\n",
       "      <td>0.0</td>\n",
       "      <td>0.0</td>\n",
       "      <td>0.0</td>\n",
       "      <td>0</td>\n",
       "      <td>5</td>\n",
       "      <td>18</td>\n",
       "      <td>0</td>\n",
       "      <td>2017</td>\n",
       "      <td>6</td>\n",
       "      <td>30</td>\n",
       "    </tr>\n",
       "  </tbody>\n",
       "</table>\n",
       "<p>3 rows × 159 columns</p>\n",
       "</div>"
      ],
      "text/plain": [
       "   Degree of Injury    0    1    2    3    4    5    6    7    8  ...  148  \\\n",
       "0                 0  1.0  0.0  0.0  0.0  0.0  0.0  0.0  0.0  0.0  ...  0.0   \n",
       "1                 0  0.0  0.0  0.0  0.0  0.0  0.0  0.0  0.0  1.0  ...  0.0   \n",
       "2                 0  1.0  0.0  0.0  0.0  0.0  0.0  0.0  0.0  0.0  ...  0.0   \n",
       "\n",
       "   149  150  build_stor  nature_of_inj  evn_factor  fat_cause  Year  Month  \\\n",
       "0  0.0  0.0           0              1           2          0  2017      8   \n",
       "1  0.0  0.0           1              9          18          0  2017      7   \n",
       "2  0.0  0.0           0              5          18          0  2017      6   \n",
       "\n",
       "   Day  \n",
       "0   10  \n",
       "1   17  \n",
       "2   30  \n",
       "\n",
       "[3 rows x 159 columns]"
      ]
     },
     "execution_count": 2,
     "metadata": {},
     "output_type": "execute_result"
    }
   ],
   "source": [
    "# Lendo os dados do dataset previamente limpo.\n",
    "df = pd.read_csv('oblivion.csv')\n",
    "df.head(3)"
   ]
  },
  {
   "cell_type": "markdown",
   "metadata": {},
   "source": [
    "Nossa variável alvo é a coluna categórica 'Degree of Injury' que contem duas classes para nível do lesão que os empregados sofreram. A classe com valor 0 representada os empregados que sobreviveram ao acidente de trabalho, enquanto a classe com valor 1 representa os empregados que não sobreviveram."
   ]
  },
  {
   "cell_type": "code",
   "execution_count": 3,
   "metadata": {},
   "outputs": [
    {
     "data": {
      "image/png": "[encoded data removed]",
      "text/plain": [
       "<Figure size 576x432 with 1 Axes>"
      ]
     },
     "metadata": {
      "needs_background": "light"
     },
     "output_type": "display_data"
    }
   ],
   "source": [
    "# Verificando o desbalanceamento das classes 0 e 1 do 'Degree of Injury'.\n",
    "plt.figure(figsize=(8, 6))\n",
    "sns.countplot(x = df['Degree of Injury']);"
   ]
  },
  {
   "cell_type": "code",
   "execution_count": 4,
   "metadata": {},
   "outputs": [
    {
     "data": {
      "image/png": "[encoded data removed]",
      "text/plain": [
       "<Figure size 576x432 with 1 Axes>"
      ]
     },
     "metadata": {
      "needs_background": "light"
     },
     "output_type": "display_data"
    }
   ],
   "source": [
    "# Dividindo o dataset em uma parte que representa as variáveis independentes (features) e uma parte que representa  uma variável dependnete (target).\n",
    "X = df.drop('Degree of Injury', axis = 1)\n",
    "y = df['Degree of Injury']\n",
    "\n",
    "# Balanceando as classes criando uma amostra da classe '0'.\n",
    "Over_sampler = RandomOverSampler()\n",
    "X0, y0 = Over_sampler.fit_resample(X, y)\n",
    "\n",
    "# Plotando as classes balanceadas\n",
    "plt.figure(figsize=(8, 6))\n",
    "np.bincount(y0)\n",
    "ax = sns.countplot(x=y0)\n",
    "\n",
    "# Normalizando as features\n",
    "scaler = MinMaxScaler()\n",
    "X =  scaler.fit_transform(X0)\n",
    "X = pd.DataFrame(X0)"
   ]
  },
  {
   "cell_type": "markdown",
   "metadata": {},
   "source": [
    "## Ensemble Machine Learning <a id= \"3\"></a>"
   ]
  },
  {
   "cell_type": "markdown",
   "metadata": {},
   "source": [
    "### Primeiro Nível <a id= \"4\"></a>"
   ]
  },
  {
   "cell_type": "code",
   "execution_count": 5,
   "metadata": {},
   "outputs": [
    {
     "name": "stdout",
     "output_type": "stream",
     "text": [
      "\u001b[34mLoss Médio do XGB: 0.1755\n",
      "\u001b[34mROC-AUC Médio do XGB: 93.51%\n",
      "\u001b[34mLoss Médio do CatBoost: 0.1840\n",
      "\u001b[34mROC-AUC Médio do CatBoost: 93.11%\n",
      "\u001b[34mLoss Médio do LightGBM: 0.1716\n",
      "\u001b[34mROC-AUC Médio do LightGBM: 93.79%\n",
      "\u001b[32mLoss Médio Total: 0.1770\n",
      "\u001b[32mROC-AUC Médio Total: 93.47%\n"
     ]
    }
   ],
   "source": [
    "# Dedinindo o conjunto de modelos de nível um.\n",
    "\n",
    "# Criando um cross-validation de 4 splits.\n",
    "kf = KFold(n_splits= 4, shuffle=True, random_state=0)\n",
    "\n",
    "# Definindo listas vazias\n",
    "xgb1 = []\n",
    "rocl = []\n",
    "cat1 = []\n",
    "rocl2 = []\n",
    "light1 = []\n",
    "rocl3 = []\n",
    "\n",
    "# Criando um matriz de zeros para amazenar os resultados das previsões dos modelos de primeiro nível.\n",
    "second_level = np.zeros((X.shape[0], 3))\n",
    "\n",
    "# Definindo as linhas de treino e validação \n",
    "for i, (tr, ts) in enumerate(kf.split(X)):\n",
    "    Xtr, ytr = X.iloc[tr], y0.iloc[tr]\n",
    "    Xval, yval = X.iloc[ts], y0.iloc[ts]\n",
    "    \n",
    "    # Usamos o XGBClassifier com os hiperparâmetros previamente otimizados como priemiro modelo.\n",
    "    xgb = XGBClassifier(random_state=123, \n",
    "                            n_estimators = 800,\n",
    "                            learning_rate=0.08,\n",
    "                            max_depth = 4,\n",
    "                            subsample = 0.8,\n",
    "                            verbosity = 0)\n",
    "    \n",
    "    # Treinando o XGBClassifier\n",
    "    xgb.fit(Xtr, ytr)\n",
    "    \n",
    "    # Criando valores de predição do XGBClassifier com dados de validação \n",
    "    p1 = xgb.predict(Xval)\n",
    "\n",
    "    # Criando predições em termos de porcentagem da classes previstas\n",
    "    sec1 = xgb.predict_proba(Xval)\n",
    "    \n",
    "    \n",
    "    # Calculando a função de log loss do modelo XGBClassifier.\n",
    "    ll = log_loss(yval, sec1)\n",
    "    \n",
    "    # Calculando o valor da métrica ROC-AUC\n",
    "    roc = roc_auc_score(yval, p1)\n",
    "\n",
    "    # Armazenando os valores de ROC-AUC em uma lista para cada split\n",
    "    rocl.append(roc)\n",
    "    \n",
    "    # Armazenando os valores da log loss em uma lista para cada split\n",
    "    xgb1.append(ll)\n",
    "\n",
    "    # Usamos o CatBoostClassifier com os hiperparâmetros previamente otimizados como segundo modelo.\n",
    "    cat = CatBoostClassifier(\n",
    "        random_state=123,\n",
    "        learning_rate= 0.009,\n",
    "        l2_leaf_reg= 0.18,\n",
    "        max_depth= 7,\n",
    "        n_estimators= 1000,\n",
    "        verbose=0)\n",
    "    \n",
    "    # Treinando o CatBoostClassifier\n",
    "    cat.fit(Xtr, ytr)\n",
    "\n",
    "    # Criando valores de predição do CatBoostClassifier com dados de validação \n",
    "    p2 = cat.predict(Xval)\n",
    "\n",
    "    # Criando predições em termos de porcentagem da classes previstas\n",
    "    sec2 = cat.predict_proba(Xval)\n",
    "    \n",
    "     \n",
    "    # Calculando a função de log loss do modelo CatBoostClassifier.\n",
    "    ll2 = log_loss(yval, sec2)\n",
    "    \n",
    "    # Calculando o valor da métrica ROC-AUC\n",
    "    roc2 = roc_auc_score(yval, p2)\n",
    "    \n",
    "    # Armazenando os valores de ROC-AUC em uma lista para cada split\n",
    "    rocl2.append(roc2)\n",
    "    \n",
    "    # Armazenando os valores da log loss em uma lista para cada split\n",
    "    cat1.append(ll2)\n",
    "    \n",
    "    # Usamos o LGBMClassifier com os hiperparâmetros previamente otimizados como terceiro modelo.\n",
    "    lgbm = lgb.LGBMClassifier(\n",
    "                                random_state=123,\n",
    "                                n_estimators = 1500, \n",
    "                                learning_rate=0.008, \n",
    "                                max_depth=12, \n",
    "                                subsample = 0.8, \n",
    "                                colsample_bytree=0.8,\n",
    "                                n_jobs=6)\n",
    "    # Treinando o LGBMClassifier\n",
    "    lgbm.fit(Xtr, ytr)\n",
    "    \n",
    "    # Criando valores de predição do LGBMClassifier com dados de validação \n",
    "    p3 = lgbm.predict(Xval)\n",
    "\n",
    "    # Criando predições em termos de porcentagem da classes previstas\n",
    "    sec3 = lgbm.predict_proba(Xval)\n",
    "    \n",
    "    # Calculando a função de log loss do modelo LGBMClassifier.\n",
    "    ll_lgbm = log_loss(yval, sec3)\n",
    "\n",
    "    # Calculando o valor da métrica ROC-AUC\n",
    "    roc3 = roc_auc_score(yval, p3)\n",
    "    \n",
    "    # Armazenando os valores da log loss em uma lista para cada split\n",
    "    light1.append(ll_lgbm)\n",
    "\n",
    "    # Armazenando os valores de ROC-AUC em uma lista para cada split\n",
    "    rocl3.append(roc3)\n",
    "    \n",
    "    # Preenchendo a matriz second_level com valores preditos para os três modelos.\n",
    "    second_level[ts, 0] = sec1[:, 1]\n",
    "    second_level[ts, 1] = sec2[:, 1]\n",
    "    second_level[ts, 2] = sec3[:, 1]\n",
    "\n",
    "# criando listas para armazenar os valores das log loss e ROC-AUC de todos os modelos.\n",
    "loss_tot = [ (a + b + c) for a, b, c in zip(xgb1, cat1, light1) ]\n",
    "roc_tot = [ (a + b + c) for a, b, c in zip(rocl, rocl2, rocl3) ]\n",
    "\n",
    "print(Fore.BLUE + \"Loss Médio do XGB: {:.4f}\".format(np.mean(xgb1)))\n",
    "print(Fore.BLUE + \"ROC-AUC Médio do XGB: {:.2f}%\".format(100*np.mean(rocl)))\n",
    "\n",
    "print(Fore.BLUE + \"Loss Médio do CatBoost: {:.4f}\".format(np.mean(cat1)))\n",
    "print(Fore.BLUE + \"ROC-AUC Médio do CatBoost: {:.2f}%\".format(100*np.mean(rocl2)))\n",
    "\n",
    "print(Fore.BLUE + \"Loss Médio do LightGBM: {:.4f}\".format(np.mean(light1)))\n",
    "print(Fore.BLUE + \"ROC-AUC Médio do LightGBM: {:.2f}%\".format(100*np.mean(rocl3)))\n",
    "\n",
    "print(Fore.GREEN + \"Loss Médio Total: {:.4f}\".format(np.mean(loss_tot)/3))\n",
    "print(Fore.GREEN + \"ROC-AUC Médio Total: {:.2f}%\".format(100*np.mean(roc_tot)/3))"
   ]
  },
  {
   "cell_type": "markdown",
   "metadata": {},
   "source": [
    "Obtivemos um valor de log-loss médio de 0.1770 e ROC-AUC médio de 93.73% devido a contribuição de todos os modelos de primeiro nível. O que pretendemos no segundo nível é obter um desempenho igual ou bem próximo dos valores das métricas obtidas no primeiro nível."
   ]
  },
  {
   "cell_type": "markdown",
   "metadata": {},
   "source": [
    "### Segundo Nível <a id= \"5\"></a>"
   ]
  },
  {
   "cell_type": "code",
   "execution_count": 6,
   "metadata": {},
   "outputs": [
    {
     "name": "stdout",
     "output_type": "stream",
     "text": [
      "\u001b[32mLoss Médio do LightGBM: 0.1780\n",
      "\u001b[32mROC-AUC Médio do LightGBM: 9.4e+01%\n"
     ]
    }
   ],
   "source": [
    "# Criando modelo de segundo nível\n",
    "\n",
    "# Criando listas vazias para armazenar os valores das log loss e ROC-AUC\n",
    "ll_stacks = []\n",
    "rocl_stacks = []\n",
    "\n",
    "for tr, ts in kf.split(X,y0):\n",
    "    \n",
    "    # Aqui usamos os valores preditos pelos modelos em primeiro nível como features de treino e validação no segundo nível. \n",
    "    Xtr, Xval = second_level[tr], second_level[ts]\n",
    "    ytr, yval = y0.iloc[tr], y0.iloc[ts]\n",
    "    \n",
    "    # Usaremos um modelo de Logistic Regression para treinar \n",
    "    ls_stack = LogisticRegression(C = 1.)\n",
    "\n",
    "    # Treinando o modelo com dados de primeiro nível\n",
    "    ls_stack.fit(Xtr, ytr)\n",
    "    \n",
    "    # Criando valores de predição com dados de validação da logistic regression\n",
    "    pls_stack = ls_stack.predict(Xval)\n",
    "\n",
    "    # Criando predições em termos de porcentagem da classes previstas\n",
    "    sec_stack = ls_stack.predict_proba(Xval)\n",
    "    \n",
    "    # Calculando a função de log loss do modelo Logistic Regression.\n",
    "    ll_stack = log_loss(yval, sec_stack)\n",
    "\n",
    "    # Calculando o valor da métrica ROC-AUC\n",
    "    roc_stack = roc_auc_score(yval, pls_stack) \n",
    "    \n",
    "    # Armazenando os valores da log loss em uma lista para cada split\n",
    "\n",
    "    ll_stacks.append(ll_stack)\n",
    "\n",
    "    # Armazenando os valores de ROC-AUC em uma lista para cada split\n",
    "    rocl_stacks.append(roc_stack)\n",
    "\n",
    "print(Fore.GREEN + \"Loss Médio do LightGBM: {:.4f}\".format(np.mean(ll_stacks)))\n",
    "print(Fore.GREEN + \"ROC-AUC Médio do LightGBM: {:.2}%\".format(100*np.mean(rocl_stacks)))\n"
   ]
  },
  {
   "cell_type": "markdown",
   "metadata": {},
   "source": [
    "Comparando os valores das métricas no primeiro e segundo nível:\n",
    "* A Log-Loss média do primeiro nível foi de 0.1770.\n",
    "* A Log-Loss média do segundo nível foi de 0.1780. \n",
    "--------------------------------------------------\n",
    "* O ROC-AUC médio do primeiro nível foi de 93.47%. \n",
    "* O ROC-AUC médio do segundo nível foi de 94.00%.  \n",
    "\n",
    "Ao compararmos os desempenhos dos modelos nos dois níveis, vemos que a log-loss no primeiro nível foi um pouco melhor do que no segundo nível. Em quando que a ROC-AUC teve valor um pouco melhor que a média de todos os modelos de primeiro nível. Este resultado já mostra que nosso esemble é melhor que média dos modelos inviduais como também é mais confiável ter uma sistema de classificação que trabalha com base na previsão conjunta de muitos modelos. Embora os valores destas métricas devem flutuar sempre que notebook é rodado, devemos esperar que os valores de segundo nível sejam melhores do que no primeiro nível."
   ]
  },
  {
   "cell_type": "markdown",
   "metadata": {},
   "source": [
    "## Criando Dataframe Com as Previsões <a id= \"6\"></a>"
   ]
  },
  {
   "cell_type": "code",
   "execution_count": 7,
   "metadata": {},
   "outputs": [],
   "source": [
    "# Criando dataframe com valores reais e previstos para o 'nivel de lesão' do empregado.\n",
    "p = pd.DataFrame(pls_stack)\n",
    "ps = pd.DataFrame(yval)\n",
    "ps = ps.reset_index(drop = True)\n",
    "sof = pd.concat([ps, p], axis = 1)"
   ]
  },
  {
   "cell_type": "code",
   "execution_count": 8,
   "metadata": {},
   "outputs": [],
   "source": [
    "# Renomeando as colunas dos valores reais e prevsitos.\n",
    "sof = sof.rename(columns={'Degree of Injury': 'Degree of Injury Real', 0 : 'Degree of Injury Preditions'})"
   ]
  },
  {
   "cell_type": "code",
   "execution_count": 9,
   "metadata": {},
   "outputs": [
    {
     "data": {
      "text/html": [
       "<div>\n",
       "<style scoped>\n",
       "    .dataframe tbody tr th:only-of-type {\n",
       "        vertical-align: middle;\n",
       "    }\n",
       "\n",
       "    .dataframe tbody tr th {\n",
       "        vertical-align: top;\n",
       "    }\n",
       "\n",
       "    .dataframe thead th {\n",
       "        text-align: right;\n",
       "    }\n",
       "</style>\n",
       "<table border=\"1\" class=\"dataframe\">\n",
       "  <thead>\n",
       "    <tr style=\"text-align: right;\">\n",
       "      <th></th>\n",
       "      <th>Degree of Injury Real</th>\n",
       "      <th>Degree of Injury Preditions</th>\n",
       "    </tr>\n",
       "  </thead>\n",
       "  <tbody>\n",
       "    <tr>\n",
       "      <th>0</th>\n",
       "      <td>0</td>\n",
       "      <td>0</td>\n",
       "    </tr>\n",
       "    <tr>\n",
       "      <th>1</th>\n",
       "      <td>1</td>\n",
       "      <td>1</td>\n",
       "    </tr>\n",
       "    <tr>\n",
       "      <th>2</th>\n",
       "      <td>1</td>\n",
       "      <td>1</td>\n",
       "    </tr>\n",
       "    <tr>\n",
       "      <th>3</th>\n",
       "      <td>1</td>\n",
       "      <td>1</td>\n",
       "    </tr>\n",
       "    <tr>\n",
       "      <th>4</th>\n",
       "      <td>1</td>\n",
       "      <td>1</td>\n",
       "    </tr>\n",
       "  </tbody>\n",
       "</table>\n",
       "</div>"
      ],
      "text/plain": [
       "   Degree of Injury Real  Degree of Injury Preditions\n",
       "0                      0                            0\n",
       "1                      1                            1\n",
       "2                      1                            1\n",
       "3                      1                            1\n",
       "4                      1                            1"
      ]
     },
     "execution_count": 9,
     "metadata": {},
     "output_type": "execute_result"
    }
   ],
   "source": [
    "# Mostrando a comparação entre valores reais e preditos.\n",
    "sof.head()"
   ]
  },
  {
   "cell_type": "markdown",
   "metadata": {},
   "source": [
    "## Conclusão <a id= \"7\"></a>"
   ]
  },
  {
   "cell_type": "markdown",
   "metadata": {},
   "source": [
    "Fomos bem sucedidos em criar um ensemble de machine learning para prever se determinado empregado pode sofrer um acidente letal. Utilizando um esquema de stacking de apenas dois níveis, composto de um modelo XGBClassifier, CatBoostClassifier e LGBMClassifier no primeiro nível e LogisticRegression no segundo nível. Obtendo 94.0% de ROC-AUC na confiabilidade de separação das classes e 0.1780 de log-loss. Sendo estes resultados mais confiáveis do que os mesmos valores se tivessem sidos obtidos por um único modelo. De modo geral nosso experiemento se mostra promissor em aplicarmos modelos do tipo ensemble para produção em larga escala e desse modo auxiliar na prevenção de graves acidentes.\n",
    "\n",
    "Nosso próximo passo é melhorar o desempenho do nosso modelo preditivo. As abordagens mais diretas que podemos usar é adicionar mais modelos de classificação no priemiro nível e ao mesmo tempo aumentar os niveis de validação. Além disso, podemos tunar os hiperparâmetros de todos os modelos em todos os níveis. Uma abordagem que pode se mostrar muito poderosa é usarmos técnicas de automl como pycaret para gerarmos os modelos mais eficientes e implementarmos em todos os níveis com os hiperparâmetros já tunados."
   ]
  }
 ],
 "metadata": {
  "interpreter": {
   "hash": "70bbc14ac656fae6255699fdfbb0a219fec5e7446bcca062721a0f399f9119ed"
  },
  "kernelspec": {
   "display_name": "Python 3.9.8 64-bit",
   "language": "python",
   "name": "python3"
  },
  "language_info": {
   "codemirror_mode": {
    "name": "ipython",
    "version": 3
   },
   "file_extension": ".py",
   "mimetype": "text/x-python",
   "name": "python",
   "nbconvert_exporter": "python",
   "pygments_lexer": "ipython3",
   "version": "3.9.8"
  },
  "orig_nbformat": 4
 },
 "nbformat": 4,
 "nbformat_minor": 2
}
